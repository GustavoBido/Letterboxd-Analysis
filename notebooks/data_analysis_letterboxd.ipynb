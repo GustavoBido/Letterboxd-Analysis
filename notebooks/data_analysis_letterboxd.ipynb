{
 "cells": [
  {
   "cell_type": "markdown",
   "id": "0",
   "metadata": {},
   "source": [
    "# Análise de Dados: Letterboxd\n",
    "\n",
    "## Sobre o Dataset\n",
    "A análise foi possível por meio de dois jobs no AWS Glue:\n",
    "\n",
    "- **Job 1 – Renomear e Droppar:** Feito por Visual ETL. As colunas consideradas irrelevantes para a análise foram removidas (ex.: `cast` – elenco, `release_year` – ano de lançamento, que infelizmente estava vazio, `director` – diretor do filme, etc.).\n",
    "\n",
    "- **Job 2 – Strings para Listas (countries):** Feito em script PySpark. Aqui foi consideravelmente mais difícil. A coluna `countries` trazia uma string com o nome dos países. Esse job foi criado com o intuito de transformar essas strings em um array de strings, que denominei `country`.\n",
    "\n",
    "## Sobre a Análise\n",
    "Dadas as limitações do dataset e a falta de informações sobre filmes brasileiros, que era meu objetivo principal de análise, foi necessário alterar o foco da análise.\n"
   ]
  },
  {
   "cell_type": "code",
   "execution_count": null,
   "id": "1",
   "metadata": {},
   "outputs": [],
   "source": [
    "import pandas as pd\n",
    "import matplotlib as plt"
   ]
  },
  {
   "cell_type": "code",
   "execution_count": null,
   "id": "2",
   "metadata": {},
   "outputs": [],
   "source": [
    "#Carregando os dados\n",
    "arquivo = \"processed_data_final.parquet\"\n",
    "df = pd.read_parquet(arquivo)"
   ]
  },
  {
   "cell_type": "code",
   "execution_count": null,
   "id": "3",
   "metadata": {},
   "outputs": [],
   "source": [
    "#Checagens básicas\n",
    "print(df.head())"
   ]
  },
  {
   "cell_type": "code",
   "execution_count": null,
   "id": "4",
   "metadata": {},
   "outputs": [],
   "source": [
    "df.shape"
   ]
  },
  {
   "cell_type": "code",
   "execution_count": null,
   "id": "5",
   "metadata": {},
   "outputs": [],
   "source": [
    "print(df.describe())"
   ]
  },
  {
   "cell_type": "code",
   "execution_count": null,
   "id": "6",
   "metadata": {},
   "outputs": [],
   "source": [
    "df.info()"
   ]
  },
  {
   "cell_type": "markdown",
   "id": "7",
   "metadata": {},
   "source": [
    "# Contagem por País e Top 10"
   ]
  },
  {
   "cell_type": "code",
   "execution_count": null,
   "id": "8",
   "metadata": {},
   "outputs": [],
   "source": [
    "filmes_por_pais = (\n",
    "    df[\"country\"]\n",
    "    .dropna()\n",
    "    .str.strip()           \n",
    "    .replace(\"\", pd.NA) #removendo strings vazias\n",
    "    .value_counts()\n",
    ")"
   ]
  },
  {
   "cell_type": "markdown",
   "id": "9",
   "metadata": {},
   "source": [
    "TOP PAÍSES COM MAIS FILMES NA BASE"
   ]
  },
  {
   "cell_type": "code",
   "execution_count": null,
   "id": "10",
   "metadata": {},
   "outputs": [],
   "source": [
    "ax = filmes_por_pais.head(10).sort_values(ascending=True).plot(\n",
    "    kind=\"barh\", figsize=(8,5), color=\"skyblue\", edgecolor=\"black\"\n",
    ")\n",
    "\n",
    "ax.set_title(\"Top 10 países com mais filmes\", fontsize=14, weight=\"bold\")\n",
    "ax.set_xlabel(\"Quantidade de filmes\", fontsize=12)\n",
    "ax.set_ylabel(\"País\", fontsize=12)\n",
    "ax.grid(axis=\"x\", linestyle=\"--\", alpha=0.7)"
   ]
  },
  {
   "cell_type": "markdown",
   "id": "11",
   "metadata": {},
   "source": [
    "POPULARIDADE POR PAÍS (QUANTOS \"WATCHES\", OU \"ASSISTIDOS\")"
   ]
  },
  {
   "cell_type": "code",
   "execution_count": null,
   "id": "12",
   "metadata": {},
   "outputs": [],
   "source": [
    "ax1 =(\n",
    "    df.groupby(\"country\")[\"watches\"].sum().sort_values(ascending=False)\n",
    "    .head(10)\n",
    "    .plot(kind=\"barh\", figsize=(10,6), color=\"skyblue\", edgecolor=\"black\")\n",
    "    \n",
    "    )\n"
   ]
  },
  {
   "cell_type": "markdown",
   "id": "13",
   "metadata": {},
   "source": [
    "Países mais eficientes: filmes com mais assistidas em relação ao total produzido"
   ]
  },
  {
   "cell_type": "code",
   "execution_count": null,
   "id": "14",
   "metadata": {},
   "outputs": [],
   "source": [
    "filmes = df.groupby(\"country\")[\"film_title\"].nunique() #agrupando por país e contando \n",
    "watches = df.groupby(\"country\")[\"watches\"].sum() #somando o total de watches por país\n",
    "eficiencia = (watches / filmes).sort_values(ascending=False) #dividindo as series (soma de watches por país/filmes únicos por país)\n"
   ]
  },
  {
   "cell_type": "code",
   "execution_count": null,
   "id": "15",
   "metadata": {},
   "outputs": [],
   "source": [
    "ax2 = (\n",
    "    eficiencia.head(10)\n",
    "    .sort_values(ascending=True)  \n",
    "    .plot(kind=\"barh\", figsize=(10,6), color=\"mediumseagreen\", edgecolor=\"black\")\n",
    ")\n",
    "\n",
    "ax2.set_title(\"Top 10 países com maior eficiência (watches por filme)\", fontsize=14, weight=\"bold\")\n",
    "ax2.set_xlabel(\"Média de assistidas por filme\", fontsize=12)\n",
    "ax2.set_ylabel(\"País\", fontsize=12)\n",
    "ax2.grid(axis=\"x\", linestyle=\"--\", alpha=0.7)\n",
    "\n",
    "# Adiciona os valores no final das barras\n",
    "for container in ax2.containers:\n",
    "    ax2.bar_label(container, fmt='%.0f', fontsize=9)\n"
   ]
  },
  {
   "cell_type": "markdown",
   "id": "16",
   "metadata": {},
   "source": [
    "Acima podemos ver o impacto da trilogia Senhor dos Anéis! Nova Zelândia é um país com relativa baixa produção audiovisual, se comparado aos países de maior tradição cinematográfica, porém, com os 3 filmes da trilogia \"O Senhor dos Anéis\", sucessos de bilheteria e que até hoje têm relevância cultural, vemos o impacto que isso causa na \"eficiência\" desse país."
   ]
  },
  {
   "cell_type": "markdown",
   "id": "17",
   "metadata": {},
   "source": [
    "Logo abaixo da Nova Zelândia, temos o Brasil! \n",
    "\n",
    "Vamos investigar:"
   ]
  },
  {
   "cell_type": "code",
   "execution_count": null,
   "id": "18",
   "metadata": {},
   "outputs": [],
   "source": [
    "df_brasil = df[df[\"country\"] == \"Brazil\"]\n",
    "df_brasil[\"film_title\"].nunique()"
   ]
  },
  {
   "cell_type": "code",
   "execution_count": null,
   "id": "19",
   "metadata": {},
   "outputs": [],
   "source": [
    "df_brasil[\"watches\"].sum()"
   ]
  },
  {
   "cell_type": "code",
   "execution_count": null,
   "id": "20",
   "metadata": {},
   "outputs": [],
   "source": [
    "filmes_brasil= df_brasil.groupby(\"film_title\")[\"watches\"].sum().sort_values(ascending=False)\n"
   ]
  },
  {
   "cell_type": "markdown",
   "id": "21",
   "metadata": {},
   "source": [
    "Desses filmes listados, apenas Bacurau e Cidade de Deus (City of God) são realmente brasileiros.\n",
    "\n",
    "Vamos avaliar então todos esses 40 \"filmes brasileiros\""
   ]
  },
  {
   "cell_type": "code",
   "execution_count": null,
   "id": "22",
   "metadata": {},
   "outputs": [],
   "source": [
    "print(filmes_brasil)"
   ]
  },
  {
   "cell_type": "markdown",
   "id": "23",
   "metadata": {},
   "source": [
    "Realmente, desses filmes alguns não são realmente brasileiros. O fator coprodução, e também que a base de dados considera como country a origem de todas as produtoras envolvidas na produção do filme causam esse \"erro\"."
   ]
  },
  {
   "cell_type": "markdown",
   "id": "24",
   "metadata": {},
   "source": [
    "Identifiquei os filmes realmente brasileiros:"
   ]
  },
  {
   "cell_type": "code",
   "execution_count": null,
   "id": "25",
   "metadata": {},
   "outputs": [],
   "source": [
    "filmes_brasil_confirmados = [\n",
    "    \"Kiss of the Spider Woman\",\n",
    "    \"City of God\",\n",
    "    \"360\",\n",
    "    \"Trash\",\n",
    "    \"Killer Fish\",\n",
    "    \"Operações Especiais\",\n",
    "    \"Memories They Told Me\",\n",
    "    \"Bixa Travesty\",\n",
    "    \"The Cambridge Squatter\",\n",
    "    \"Beduino\",\n",
    "    \"The Lady from the Shanghai Cinema\",\n",
    "    \"The Happy Cricket\",\n",
    "    \"Baron Olavo, The Horrible\",\n",
    "    \"This Night I'll Possess Your Corpse\",\n",
    "    \"Bacurau\",\n",
    "    \"Medusa\"\n",
    "]"
   ]
  },
  {
   "cell_type": "code",
   "execution_count": null,
   "id": "26",
   "metadata": {},
   "outputs": [],
   "source": [
    "df_filmes_brasil = df[df[\"film_title\"].isin(filmes_brasil_confirmados)]\n",
    "print(df_filmes_brasil[\"film_title\"].unique())"
   ]
  },
  {
   "cell_type": "code",
   "execution_count": null,
   "id": "27",
   "metadata": {},
   "outputs": [],
   "source": [
    "print(\n",
    "    df_filmes_brasil.groupby(\"film_title\")[\"watches\"]\n",
    "    .sum()\n",
    "    .sort_values(ascending=False)\n",
    ")"
   ]
  },
  {
   "cell_type": "markdown",
   "id": "28",
   "metadata": {},
   "source": [
    "Vamos comparar os filmes verdadeiramente brasileiros com os não brasileiros, mas que foram identificados como tal."
   ]
  },
  {
   "cell_type": "code",
   "execution_count": null,
   "id": "29",
   "metadata": {},
   "outputs": [],
   "source": [
    "# Soma dos \"supostos brasileiros\" (df_brasil original)\n",
    "total_brasil_nao_filtrado = df_brasil[\"watches\"].sum()\n",
    "\n",
    "# Soma dos confirmados brasileiros\n",
    "total_brasil_confirmado = df[df[\"film_title\"].isin(filmes_brasil_confirmados)][\"watches\"].sum()\n",
    "\n",
    "print(\"Total Brasil (não filtrado):\", total_brasil_nao_filtrado)\n",
    "print(\"Total Brasil (confirmados):\", total_brasil_confirmado)\n",
    "\n",
    "print(\"Diferença:\", total_brasil_nao_filtrado - total_brasil_confirmado)\n"
   ]
  },
  {
   "cell_type": "code",
   "execution_count": null,
   "id": "30",
   "metadata": {},
   "outputs": [],
   "source": [
    "import matplotlib.pyplot as plt\n",
    "\n",
    "total_brasil_nao_filtrado = 97962820  \n",
    "total_brasil_confirmado = 3666333 \n",
    "\n",
    "# Dados para o gráfico\n",
    "labels = [\"Brasil (não filtrado)\", \"Brasil (confirmado)\"]\n",
    "values = [total_brasil_nao_filtrado, total_brasil_confirmado]\n",
    "\n",
    "plt.figure(figsize=(7,5))\n",
    "plt.bar(labels, values)\n",
    "plt.title(\"Comparação: Soma de Watches\\nFiltrado vs Confirmado (Brasil)\")\n",
    "plt.ylabel(\"Total de Watches\")\n",
    "plt.show()"
   ]
  },
  {
   "cell_type": "markdown",
   "id": "31",
   "metadata": {},
   "source": [
    "Bom, descobrimos que o Brasil está muito pouco representado nessa base."
   ]
  },
  {
   "cell_type": "markdown",
   "id": "32",
   "metadata": {},
   "source": [
    "# Uma curiosidade é, que produtora brasileira está envolvida em tantos filmes internacionais?"
   ]
  },
  {
   "cell_type": "markdown",
   "id": "33",
   "metadata": {},
   "source": [
    "Fazendo uma pesquisa, descobri que se trata da RT Features, produtora brasileira, envolvida em alguns clássicos modernos como \"Call Me By Your Name\" (2017), filme de Luca Guadagnino, uma co-produção EUA-Itália-Brasil, vencedor de Oscar, \"The Lighthouse\", sucesso de terror com Willem Dafoe e Robert Pattinson e \"Frances Ha\", um dos filmes que colocou Greta Gerwig, diretora de Barbie, no \"radar\" de Hollywood.\n",
    "\n",
    "De qualquer forma, para mim foi muito interessante descobrir que uma produtora brasileira é tão ativa em tantos sucessos internacionais, em público e crítica."
   ]
  },
  {
   "cell_type": "markdown",
   "id": "34",
   "metadata": {},
   "source": [
    "Meu objetivo inicial era a investigação dos dados sobre filmes brasileiros, mas fui surpreendido negativamente pela pobreza do dataset nesse quesito.\n",
    "\n",
    "Portanto, seguirei uma nova abordagem. Vou analisar o que consigo dentro desse dataset."
   ]
  },
  {
   "cell_type": "markdown",
   "id": "35",
   "metadata": {},
   "source": [
    "# TOP 20 FILMES MAIS POPULARES"
   ]
  },
  {
   "cell_type": "code",
   "execution_count": null,
   "id": "36",
   "metadata": {},
   "outputs": [],
   "source": [
    "# Unificando os filmes pelo título, somando os watches\n",
    "df_filmes = (df.groupby(\"film_title\", as_index=False)\n",
    "               .agg({\"watches\": \"sum\"}))\n",
    "\n",
    "print(df_filmes.sort_values(\"watches\", ascending=False).head(10))\n"
   ]
  },
  {
   "cell_type": "code",
   "execution_count": null,
   "id": "37",
   "metadata": {},
   "outputs": [],
   "source": [
    "# Top 20 outliers (mais simples)\n",
    "outliers = df_filmes.sort_values(\"watches\", ascending=False).head(20)\n",
    "print(outliers)"
   ]
  },
  {
   "cell_type": "markdown",
   "id": "38",
   "metadata": {},
   "source": [
    "Agora tudo faz sentido!\n",
    "\n",
    "Era Call Me By Your Name que \"puxava\" os números do Brasil para cima!"
   ]
  },
  {
   "cell_type": "markdown",
   "id": "39",
   "metadata": {},
   "source": [
    "# Correlação Duração x Watches"
   ]
  },
  {
   "cell_type": "code",
   "execution_count": null,
   "id": "40",
   "metadata": {},
   "outputs": [],
   "source": [
    "# Unificando filmes (um título = um registro)\n",
    "df_filmes = (df.groupby(\"film_title\", as_index=False)\n",
    "               .agg({\n",
    "                   \"watches\": \"sum\",   # soma global de visualizações\n",
    "                   \"runtime\": \"mean\"   # duração média (se repetida em países)\n",
    "               }))\n",
    "\n",
    "# Removendo linhas sem duração válida\n",
    "df_filmes = df_filmes.dropna(subset=[\"runtime\"])\n"
   ]
  },
  {
   "cell_type": "code",
   "execution_count": null,
   "id": "41",
   "metadata": {},
   "outputs": [],
   "source": [
    "# Correlação de Pearson\n",
    "correlacao = df_filmes[[\"runtime\", \"watches\"]].corr(method=\"pearson\")\n",
    "print(correlacao)\n"
   ]
  },
  {
   "cell_type": "code",
   "execution_count": null,
   "id": "42",
   "metadata": {},
   "outputs": [],
   "source": [
    "import matplotlib.pyplot as plt\n",
    "\n",
    "plt.figure(figsize=(8,6))\n",
    "plt.scatter(df_filmes[\"runtime\"], df_filmes[\"watches\"], alpha=0.5)\n",
    "plt.title(\"Correlação: Duração do Filme vs. Popularidade (Watches)\")\n",
    "plt.xlabel(\"Duração (min)\")\n",
    "plt.ylabel(\"Total de Watches\")\n",
    "plt.show()\n"
   ]
  },
  {
   "cell_type": "code",
   "execution_count": null,
   "id": "43",
   "metadata": {},
   "outputs": [],
   "source": [
    "import numpy as np\n",
    "\n",
    "x = df_filmes[\"runtime\"]\n",
    "y = df_filmes[\"watches\"]\n",
    "\n",
    "m, b = np.polyfit(x, y, 1) \n",
    "plt.figure(figsize=(8,6))\n",
    "plt.scatter(x, y, alpha=0.5, label=\"Filmes\")\n",
    "plt.plot(x, m*x + b, color=\"red\", label=\"Tendência\")\n",
    "plt.title(\"Duração x Popularidade\")\n",
    "plt.xlabel(\"Duração (min)\")\n",
    "plt.ylabel(\"Watches\")\n",
    "plt.legend()\n",
    "plt.show()\n"
   ]
  },
  {
   "cell_type": "markdown",
   "id": "44",
   "metadata": {},
   "source": [
    "Aqui faço um recorte tanto dos TOP 10"
   ]
  },
  {
   "cell_type": "code",
   "execution_count": null,
   "id": "45",
   "metadata": {},
   "outputs": [],
   "source": [
    "# Definindo o recorte (top 10% por watches)\n",
    "corte = df_filmes[\"watches\"].quantile(0.90)\n",
    "\n",
    "# Filtrar só os mais assistidos\n",
    "top_filmes = df_filmes[df_filmes[\"watches\"] >= corte]\n"
   ]
  },
  {
   "cell_type": "code",
   "execution_count": null,
   "id": "46",
   "metadata": {},
   "outputs": [],
   "source": [
    "runtime_mais_comum_top = top_filmes[\"runtime\"].mode()[0]\n",
    "print(\"Runtime mais comum entre os top filmes:\", runtime_mais_comum_top)\n"
   ]
  },
  {
   "cell_type": "code",
   "execution_count": null,
   "id": "47",
   "metadata": {},
   "outputs": [],
   "source": [
    "import matplotlib.pyplot as plt\n",
    "\n",
    "plt.figure(figsize=(8,6))\n",
    "plt.scatter(df_filmes[\"runtime\"], df_filmes[\"watches\"], alpha=0.5, label=\"Todos os filmes\")\n",
    "\n",
    "# linha vertical só para os top\n",
    "plt.axvline(runtime_mais_comum_top, color=\"red\", linestyle=\"--\",\n",
    "            label=f\"Runtime mais comum (Top filmes): {runtime_mais_comum_top} min\")\n",
    "\n",
    "plt.title(\"Duração do Filme vs. Popularidade (Watches)\")\n",
    "plt.xlabel(\"Duração (min)\")\n",
    "plt.ylabel(\"Total de Watches\")\n",
    "plt.legend()\n",
    "plt.show()\n"
   ]
  },
  {
   "cell_type": "markdown",
   "id": "48",
   "metadata": {},
   "source": [
    "RUNTIME MAIS PLAUSÍVEL"
   ]
  },
  {
   "cell_type": "code",
   "execution_count": null,
   "id": "49",
   "metadata": {},
   "outputs": [],
   "source": [
    "# Filtrar filmes de até 210 minutos (3h30)\n",
    "df_filmes_filtrado = df_filmes[df_filmes[\"runtime\"].between(60, 210)]\n",
    "\n",
    "# Correlação só nesse intervalo\n",
    "correlacao_filtrada = df_filmes_filtrado[[\"runtime\", \"watches\"]].corr(method=\"pearson\")\n",
    "print(correlacao_filtrada)\n"
   ]
  },
  {
   "cell_type": "code",
   "execution_count": null,
   "id": "50",
   "metadata": {},
   "outputs": [],
   "source": [
    "import matplotlib.pyplot as plt\n",
    "\n",
    "# Dataset original\n",
    "x_all = df_filmes[\"runtime\"]\n",
    "y_all = df_filmes[\"watches\"]\n",
    "\n",
    "# Dataset filtrado (até 210 min)\n",
    "df_filmes_filtrado = df_filmes[df_filmes[\"runtime\"].between(0, 210)]\n",
    "x_filtrado = df_filmes_filtrado[\"runtime\"]\n",
    "y_filtrado = df_filmes_filtrado[\"watches\"]\n",
    "\n",
    "plt.figure(figsize=(14,6))\n",
    "\n",
    "# Scatter completo\n",
    "plt.subplot(1,2,1)\n",
    "plt.scatter(x_all, y_all, alpha=0.4)\n",
    "plt.title(\"Runtime vs Watches (Todos os filmes)\")\n",
    "plt.xlabel(\"Runtime (min)\")\n",
    "plt.ylabel(\"Watches\")\n",
    "\n",
    "# Scatter filtrado\n",
    "plt.subplot(1,2,2)\n",
    "plt.scatter(x_filtrado, y_filtrado, alpha=0.4, color=\"green\")\n",
    "plt.title(\"Runtime vs Watches (0–210 min)\")\n",
    "plt.xlabel(\"Runtime (min)\")\n",
    "plt.ylabel(\"Watches\")\n",
    "\n",
    "plt.tight_layout()\n",
    "plt.show()\n"
   ]
  }
 ],
 "metadata": {
  "kernelspec": {
   "display_name": ".venv (3.13.0)",
   "language": "python",
   "name": "python3"
  },
  "language_info": {
   "codemirror_mode": {
    "name": "ipython",
    "version": 3
   },
   "file_extension": ".py",
   "mimetype": "text/x-python",
   "name": "python",
   "nbconvert_exporter": "python",
   "pygments_lexer": "ipython3",
   "version": "3.13.0"
  }
 },
 "nbformat": 4,
 "nbformat_minor": 5
}
